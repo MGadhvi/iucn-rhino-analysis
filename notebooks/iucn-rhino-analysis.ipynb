{
 "cells": [
  {
   "cell_type": "markdown",
   "id": "1df1a14c",
   "metadata": {},
   "source": [
    "Import Libraries"
   ]
  },
  {
   "cell_type": "code",
   "execution_count": 1,
   "id": "56c2e062",
   "metadata": {},
   "outputs": [],
   "source": [
    "import geopandas as gpd\n",
    "import seaborn as sns\n",
    "import matplotlib.pyplot as plt"
   ]
  },
  {
   "cell_type": "markdown",
   "id": "89708a1d",
   "metadata": {},
   "source": [
    "Prevent Seaborn Warnings"
   ]
  },
  {
   "cell_type": "code",
   "execution_count": 2,
   "id": "8939e4bf",
   "metadata": {},
   "outputs": [],
   "source": [
    "import warnings\n",
    "\n",
    "# Suppress FutureWarnings\n",
    "warnings.filterwarnings(\"ignore\", category=FutureWarning)"
   ]
  },
  {
   "cell_type": "markdown",
   "id": "69dbad70",
   "metadata": {},
   "source": [
    "Read Dataset"
   ]
  },
  {
   "cell_type": "code",
   "execution_count": 3,
   "id": "8a8f978e",
   "metadata": {},
   "outputs": [],
   "source": [
    "gdf = gpd.read_file('../data/data_0.shp')"
   ]
  },
  {
   "cell_type": "markdown",
   "id": "76a34a2b",
   "metadata": {},
   "source": [
    "Check Dataset"
   ]
  },
  {
   "cell_type": "code",
   "execution_count": 4,
   "id": "11d9ff84",
   "metadata": {},
   "outputs": [
    {
     "data": {
      "text/html": [
       "<div>\n",
       "<style scoped>\n",
       "    .dataframe tbody tr th:only-of-type {\n",
       "        vertical-align: middle;\n",
       "    }\n",
       "\n",
       "    .dataframe tbody tr th {\n",
       "        vertical-align: top;\n",
       "    }\n",
       "\n",
       "    .dataframe thead th {\n",
       "        text-align: right;\n",
       "    }\n",
       "</style>\n",
       "<table border=\"1\" class=\"dataframe\">\n",
       "  <thead>\n",
       "    <tr style=\"text-align: right;\">\n",
       "      <th></th>\n",
       "      <th>ASSESSMENT</th>\n",
       "      <th>ID_NO</th>\n",
       "      <th>SCI_NAME</th>\n",
       "      <th>PRESENCE</th>\n",
       "      <th>ORIGIN</th>\n",
       "      <th>SEASONAL</th>\n",
       "      <th>COMPILER</th>\n",
       "      <th>YRCOMPILED</th>\n",
       "      <th>CITATION</th>\n",
       "      <th>LEGEND</th>\n",
       "      <th>SUBSPECIES</th>\n",
       "      <th>SUBPOP</th>\n",
       "      <th>DIST_COMM</th>\n",
       "      <th>ISLAND</th>\n",
       "      <th>TAX_COMM</th>\n",
       "      <th>geometry</th>\n",
       "    </tr>\n",
       "  </thead>\n",
       "  <tbody>\n",
       "    <tr>\n",
       "      <th>0</th>\n",
       "      <td>18493355.0</td>\n",
       "      <td>6553.0</td>\n",
       "      <td>Dicerorhinus sumatrensis</td>\n",
       "      <td>1</td>\n",
       "      <td>1</td>\n",
       "      <td>1</td>\n",
       "      <td>IUCN</td>\n",
       "      <td>2020</td>\n",
       "      <td>IUCN (International Union for Conservation of ...</td>\n",
       "      <td>Extant (resident)</td>\n",
       "      <td>None</td>\n",
       "      <td>None</td>\n",
       "      <td>This is very much a generalised polygon as the...</td>\n",
       "      <td>Borneo</td>\n",
       "      <td>None</td>\n",
       "      <td>POLYGON ((116.58498 4.37977, 116.58807 4.37663...</td>\n",
       "    </tr>\n",
       "    <tr>\n",
       "      <th>1</th>\n",
       "      <td>18493355.0</td>\n",
       "      <td>6553.0</td>\n",
       "      <td>Dicerorhinus sumatrensis</td>\n",
       "      <td>1</td>\n",
       "      <td>1</td>\n",
       "      <td>1</td>\n",
       "      <td>IUCN</td>\n",
       "      <td>2020</td>\n",
       "      <td>IUCN (International Union for Conservation of ...</td>\n",
       "      <td>Extant (resident)</td>\n",
       "      <td>None</td>\n",
       "      <td>None</td>\n",
       "      <td>This is very much a generalised polygon as the...</td>\n",
       "      <td>Sumatra</td>\n",
       "      <td>None</td>\n",
       "      <td>POLYGON ((95.52212 5.59443, 95.52212 5.59443, ...</td>\n",
       "    </tr>\n",
       "    <tr>\n",
       "      <th>2</th>\n",
       "      <td>18493900.0</td>\n",
       "      <td>19495.0</td>\n",
       "      <td>Rhinoceros sondaicus</td>\n",
       "      <td>1</td>\n",
       "      <td>1</td>\n",
       "      <td>1</td>\n",
       "      <td>IUCN</td>\n",
       "      <td>2020</td>\n",
       "      <td>IUCN (International Union for Conservation of ...</td>\n",
       "      <td>Extant (resident)</td>\n",
       "      <td>None</td>\n",
       "      <td>None</td>\n",
       "      <td>None</td>\n",
       "      <td>Java</td>\n",
       "      <td>None</td>\n",
       "      <td>POLYGON ((112.58089 -6.92902, 112.57632 -6.928...</td>\n",
       "    </tr>\n",
       "    <tr>\n",
       "      <th>3</th>\n",
       "      <td>18494149.0</td>\n",
       "      <td>19496.0</td>\n",
       "      <td>Rhinoceros unicornis</td>\n",
       "      <td>1</td>\n",
       "      <td>1</td>\n",
       "      <td>1</td>\n",
       "      <td>IUCN</td>\n",
       "      <td>2019</td>\n",
       "      <td>IUCN (International Union for Conservation of ...</td>\n",
       "      <td>Extant (resident)</td>\n",
       "      <td>None</td>\n",
       "      <td>None</td>\n",
       "      <td>Distribution at country level. Data sensitive</td>\n",
       "      <td>None</td>\n",
       "      <td>None</td>\n",
       "      <td>MULTIPOLYGON (((88.32126 20.86965, 88.32126 20...</td>\n",
       "    </tr>\n",
       "    <tr>\n",
       "      <th>4</th>\n",
       "      <td>45813880.0</td>\n",
       "      <td>4185.0</td>\n",
       "      <td>Ceratotherium simum</td>\n",
       "      <td>1</td>\n",
       "      <td>1</td>\n",
       "      <td>1</td>\n",
       "      <td>IUCN (International Union for Conservation of ...</td>\n",
       "      <td>2020</td>\n",
       "      <td>IUCN (International Union for Conservation of ...</td>\n",
       "      <td>Extant (resident)</td>\n",
       "      <td>simum</td>\n",
       "      <td>None</td>\n",
       "      <td>None</td>\n",
       "      <td>None</td>\n",
       "      <td>None</td>\n",
       "      <td>POLYGON ((31.3113 -22.41776, 31.3063 -22.42086...</td>\n",
       "    </tr>\n",
       "  </tbody>\n",
       "</table>\n",
       "</div>"
      ],
      "text/plain": [
       "   ASSESSMENT    ID_NO                  SCI_NAME  PRESENCE  ORIGIN  SEASONAL  \\\n",
       "0  18493355.0   6553.0  Dicerorhinus sumatrensis         1       1         1   \n",
       "1  18493355.0   6553.0  Dicerorhinus sumatrensis         1       1         1   \n",
       "2  18493900.0  19495.0      Rhinoceros sondaicus         1       1         1   \n",
       "3  18494149.0  19496.0      Rhinoceros unicornis         1       1         1   \n",
       "4  45813880.0   4185.0       Ceratotherium simum         1       1         1   \n",
       "\n",
       "                                            COMPILER  YRCOMPILED  \\\n",
       "0                                               IUCN        2020   \n",
       "1                                               IUCN        2020   \n",
       "2                                               IUCN        2020   \n",
       "3                                               IUCN        2019   \n",
       "4  IUCN (International Union for Conservation of ...        2020   \n",
       "\n",
       "                                            CITATION             LEGEND  \\\n",
       "0  IUCN (International Union for Conservation of ...  Extant (resident)   \n",
       "1  IUCN (International Union for Conservation of ...  Extant (resident)   \n",
       "2  IUCN (International Union for Conservation of ...  Extant (resident)   \n",
       "3  IUCN (International Union for Conservation of ...  Extant (resident)   \n",
       "4  IUCN (International Union for Conservation of ...  Extant (resident)   \n",
       "\n",
       "  SUBSPECIES SUBPOP                                          DIST_COMM  \\\n",
       "0       None   None  This is very much a generalised polygon as the...   \n",
       "1       None   None  This is very much a generalised polygon as the...   \n",
       "2       None   None                                               None   \n",
       "3       None   None      Distribution at country level. Data sensitive   \n",
       "4      simum   None                                               None   \n",
       "\n",
       "    ISLAND TAX_COMM                                           geometry  \n",
       "0   Borneo     None  POLYGON ((116.58498 4.37977, 116.58807 4.37663...  \n",
       "1  Sumatra     None  POLYGON ((95.52212 5.59443, 95.52212 5.59443, ...  \n",
       "2     Java     None  POLYGON ((112.58089 -6.92902, 112.57632 -6.928...  \n",
       "3     None     None  MULTIPOLYGON (((88.32126 20.86965, 88.32126 20...  \n",
       "4     None     None  POLYGON ((31.3113 -22.41776, 31.3063 -22.42086...  "
      ]
     },
     "execution_count": 4,
     "metadata": {},
     "output_type": "execute_result"
    }
   ],
   "source": [
    "gdf.head()"
   ]
  },
  {
   "cell_type": "markdown",
   "id": "7a9b5bf3",
   "metadata": {},
   "source": [
    "Check Data Types for columns"
   ]
  },
  {
   "cell_type": "code",
   "execution_count": 6,
   "id": "de843d5d",
   "metadata": {},
   "outputs": [
    {
     "data": {
      "text/plain": [
       "ASSESSMENT     float64\n",
       "ID_NO          float64\n",
       "SCI_NAME        object\n",
       "PRESENCE         int64\n",
       "ORIGIN           int64\n",
       "SEASONAL         int64\n",
       "COMPILER        object\n",
       "YRCOMPILED       int64\n",
       "CITATION        object\n",
       "LEGEND          object\n",
       "SUBSPECIES      object\n",
       "SUBPOP          object\n",
       "DIST_COMM       object\n",
       "ISLAND          object\n",
       "TAX_COMM        object\n",
       "geometry      geometry\n",
       "dtype: object"
      ]
     },
     "execution_count": 6,
     "metadata": {},
     "output_type": "execute_result"
    }
   ],
   "source": [
    "gdf.dtypes"
   ]
  },
  {
   "cell_type": "code",
   "execution_count": null,
   "id": "26d8a046",
   "metadata": {},
   "outputs": [],
   "source": []
  }
 ],
 "metadata": {
  "kernelspec": {
   "display_name": "Python 3 (ipykernel)",
   "language": "/gnu/store/ysvfmjkj0smxlhnmag3pav5abinh43vl-python-3.10.7/bin/python3",
   "name": "python3"
  },
  "language_info": {
   "codemirror_mode": {
    "name": "ipython",
    "version": 3
   },
   "file_extension": ".py",
   "mimetype": "text/x-python",
   "name": "python",
   "nbconvert_exporter": "python",
   "pygments_lexer": "ipython3",
   "version": "3.10.7"
  }
 },
 "nbformat": 4,
 "nbformat_minor": 5
}
